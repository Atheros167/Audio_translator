{
 "cells": [
  {
   "cell_type": "code",
   "execution_count": 2,
   "metadata": {},
   "outputs": [
    {
     "name": "stdout",
     "output_type": "stream",
     "text": [
      "Requirement already satisfied: SpeechRecognition in c:\\users\\rames\\anaconda3\\lib\\site-packages\n",
      "Requirement already satisfied: pyaudio in c:\\users\\rames\\anaconda3\\lib\\site-packages\n",
      "Requirement already satisfied: googletrans in c:\\users\\rames\\anaconda3\\lib\\site-packages\n",
      "Requirement already satisfied: requests in c:\\users\\rames\\anaconda3\\lib\\site-packages (from googletrans)\n",
      "Requirement already satisfied: gtts in c:\\users\\rames\\anaconda3\\lib\\site-packages\n",
      "Requirement already satisfied: requests in c:\\users\\rames\\anaconda3\\lib\\site-packages (from gtts)\n",
      "Requirement already satisfied: six in c:\\users\\rames\\anaconda3\\lib\\site-packages (from gtts)\n",
      "Requirement already satisfied: gtts-token in c:\\users\\rames\\anaconda3\\lib\\site-packages (from gtts)\n"
     ]
    }
   ],
   "source": [
    "!pip install SpeechRecognition\n",
    "!pip install pyaudio\n",
    "!pip install googletrans\n",
    "!pip install gtts"
   ]
  },
  {
   "cell_type": "code",
   "execution_count": null,
   "metadata": {
    "collapsed": true
   },
   "outputs": [],
   "source": [
    "from googletrans import Translator\n",
    "translator= Translator()\n",
    "\n",
    "from gtts import gTTS\n",
    "import os"
   ]
  },
  {
   "cell_type": "code",
   "execution_count": 22,
   "metadata": {},
   "outputs": [
    {
     "name": "stdout",
     "output_type": "stream",
     "text": [
      "Speak:\n",
      "You said hello\n"
     ]
    }
   ],
   "source": [
    "import speech_recognition as sr  \n",
    " \n",
    "# get audio from the microphone                                                                       \n",
    "r = sr.Recognizer()                                                                                   \n",
    "with sr.Microphone() as source:                                                                       \n",
    "    print(\"Speak:\")                                                                                   \n",
    "    audio = r.listen(source)   \n",
    " \n",
    "try:\n",
    "    print(\"You said \" + r.recognize_google(audio))\n",
    "except sr.UnknownValueError:\n",
    "    print(\"Could not understand audio\")\n",
    "except sr.RequestError as e:\n",
    "    print(\"Could not request results; {0}\".format(e))"
   ]
  },
  {
   "cell_type": "code",
   "execution_count": 23,
   "metadata": {},
   "outputs": [],
   "source": [
    "def translation(arg):\n",
    "    output=[]\n",
    "    for i in range(0,len(arg.split())):\n",
    "        temp=(translator.translate(arg.split()[i], src='en', dest='ja'))\n",
    "        output.append(temp.text)\n",
    "    new_lang= (' '.join(word for word in output))\n",
    "    tts = gTTS(new_lang, lang='ja')\n",
    "    tts.save(\"test.mp3\")\n",
    "    os.system(\"test.mp3\")\n",
    "    \n",
    "translation(r.recognize_google(audio))"
   ]
  },
  {
   "cell_type": "code",
   "execution_count": 8,
   "metadata": {},
   "outputs": [],
   "source": []
  },
  {
   "cell_type": "code",
   "execution_count": 9,
   "metadata": {},
   "outputs": [],
   "source": []
  },
  {
   "cell_type": "code",
   "execution_count": null,
   "metadata": {},
   "outputs": [],
   "source": []
  },
  {
   "cell_type": "code",
   "execution_count": 14,
   "metadata": {},
   "outputs": [],
   "source": []
  },
  {
   "cell_type": "code",
   "execution_count": null,
   "metadata": {},
   "outputs": [],
   "source": [
    "!pip install pygame"
   ]
  },
  {
   "cell_type": "code",
   "execution_count": null,
   "metadata": {},
   "outputs": [],
   "source": [
    "import pygame as pg\n",
    "def play_music(music_file, volume=0.8):\n",
    "    '''\n",
    "    stream music with mixer.music module in a blocking manner\n",
    "    this will stream the sound from disk while playing\n",
    "    '''\n",
    "    # set up the mixer\n",
    "    freq = 0     # audio CD quality\n",
    "    bitsize = 0    # unsigned 16 bit\n",
    "    channels = 1     # 1 is mono, 2 is stereo\n",
    "    buffer = 0    # number of samples (experiment to get best sound)\n",
    "    pg.mixer.init(freq, bitsize, channels, buffer)\n",
    "    # volume value 0.0 to 1.0\n",
    "    pg.mixer.music.set_volume(volume)\n",
    "    clock = pg.time.Clock()\n",
    "    try:\n",
    "        pg.mixer.music.load(music_file)\n",
    "        print(\"Music file {} loaded!\".format(music_file))\n",
    "    except pg.error:\n",
    "        print(\"File {} not found! ({})\".format(music_file, pg.get_error()))\n",
    "        return\n",
    "    pg.mixer.music.play()\n",
    "    while pg.mixer.music.get_busy():\n",
    "        # check if playback has finished\n",
    "        clock.tick(30)\n",
    "# pick a MP3 music file you have in the working folder\n",
    "# otherwise give the full file path\n",
    "# (try other sound file formats too)\n",
    "music_file = \"test.mp3\"\n",
    "# optional volume 0 to 1.0\n",
    "volume = 0.8\n",
    "play_music(music_file, volume)"
   ]
  },
  {
   "cell_type": "code",
   "execution_count": 10,
   "metadata": {},
   "outputs": [
    {
     "data": {
      "text/plain": [
       "0"
      ]
     },
     "execution_count": 10,
     "metadata": {},
     "output_type": "execute_result"
    }
   ],
   "source": []
  },
  {
   "cell_type": "code",
   "execution_count": null,
   "metadata": {
    "collapsed": true
   },
   "outputs": [],
   "source": []
  }
 ],
 "metadata": {
  "kernelspec": {
   "display_name": "Python 3",
   "language": "python",
   "name": "python3"
  },
  "language_info": {
   "codemirror_mode": {
    "name": "ipython",
    "version": 3
   },
   "file_extension": ".py",
   "mimetype": "text/x-python",
   "name": "python",
   "nbconvert_exporter": "python",
   "pygments_lexer": "ipython3",
   "version": "3.6.2"
  }
 },
 "nbformat": 4,
 "nbformat_minor": 2
}
