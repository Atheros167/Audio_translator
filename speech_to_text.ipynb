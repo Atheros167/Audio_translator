{
 "cells": [
  {
   "cell_type": "code",
   "execution_count": 1,
   "metadata": {},
   "outputs": [
    {
     "name": "stdout",
     "output_type": "stream",
     "text": [
      "Requirement already satisfied: SpeechRecognition in c:\\users\\rames\\anaconda3\\lib\\site-packages\n",
      "Requirement already satisfied: pyaudio in c:\\users\\rames\\anaconda3\\lib\\site-packages\n",
      "Requirement already satisfied: googletrans in c:\\users\\rames\\anaconda3\\lib\\site-packages\n",
      "Requirement already satisfied: requests in c:\\users\\rames\\anaconda3\\lib\\site-packages (from googletrans)\n",
      "Requirement already satisfied: gtts in c:\\users\\rames\\anaconda3\\lib\\site-packages\n",
      "Requirement already satisfied: six in c:\\users\\rames\\anaconda3\\lib\\site-packages (from gtts)\n",
      "Requirement already satisfied: gtts-token in c:\\users\\rames\\anaconda3\\lib\\site-packages (from gtts)\n",
      "Requirement already satisfied: requests in c:\\users\\rames\\anaconda3\\lib\\site-packages (from gtts)\n"
     ]
    }
   ],
   "source": [
    "!pip install SpeechRecognition\n",
    "!pip install pyaudio\n",
    "\n",
    "!pip install googletrans\n",
    "!pip install gtts\n",
    "from googletrans import Translator\n",
    "translator= Translator()\n",
    "\n",
    "from gtts import gTTS\n",
    "import os"
   ]
  },
  {
   "cell_type": "code",
   "execution_count": 2,
   "metadata": {},
   "outputs": [
    {
     "name": "stdout",
     "output_type": "stream",
     "text": [
      "Speak:\n",
      "You said I like watching movies\n"
     ]
    }
   ],
   "source": [
    "import speech_recognition as sr  \n",
    " \n",
    "# get audio from the microphone                                                                       \n",
    "r = sr.Recognizer()                                                                                   \n",
    "with sr.Microphone() as source:                                                                       \n",
    "    print(\"Speak:\")                                                                                   \n",
    "    audio = r.listen(source)   \n",
    " \n",
    "try:\n",
    "    print(\"You said \" + r.recognize_google(audio))\n",
    "except sr.UnknownValueError:\n",
    "    print(\"Could not understand audio\")\n",
    "except sr.RequestError as e:\n",
    "    print(\"Could not request results; {0}\".format(e))"
   ]
  },
  {
   "cell_type": "code",
   "execution_count": 5,
   "metadata": {
    "collapsed": true
   },
   "outputs": [],
   "source": [
    "def translation(arg):\n",
    "    output=[]\n",
    "    for i in range(0,len(arg.split())):\n",
    "        temp=(translator.translate(arg.split()[i], src='en', dest='fr'))\n",
    "        output.append(temp.text)\n",
    "    return(output)"
   ]
  },
  {
   "cell_type": "code",
   "execution_count": 6,
   "metadata": {},
   "outputs": [
    {
     "data": {
      "text/plain": [
       "['je', 'comme', 'en train de regarder', 'films']"
      ]
     },
     "execution_count": 6,
     "metadata": {},
     "output_type": "execute_result"
    }
   ],
   "source": [
    "translation(r.recognize_google(audio))"
   ]
  },
  {
   "cell_type": "code",
   "execution_count": null,
   "metadata": {
    "collapsed": true
   },
   "outputs": [],
   "source": []
  }
 ],
 "metadata": {
  "kernelspec": {
   "display_name": "Python 3",
   "language": "python",
   "name": "python3"
  },
  "language_info": {
   "codemirror_mode": {
    "name": "ipython",
    "version": 3
   },
   "file_extension": ".py",
   "mimetype": "text/x-python",
   "name": "python",
   "nbconvert_exporter": "python",
   "pygments_lexer": "ipython3",
   "version": "3.6.2"
  }
 },
 "nbformat": 4,
 "nbformat_minor": 2
}
